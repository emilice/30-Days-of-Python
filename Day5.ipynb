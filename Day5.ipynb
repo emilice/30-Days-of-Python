{
  "nbformat": 4,
  "nbformat_minor": 0,
  "metadata": {
    "colab": {
      "name": "Day5.ipynb",
      "provenance": [],
      "collapsed_sections": []
    },
    "kernelspec": {
      "name": "python3",
      "display_name": "Python 3"
    },
    "language_info": {
      "name": "python"
    }
  },
  "cells": [
    {
      "cell_type": "code",
      "execution_count": null,
      "metadata": {
        "colab": {
          "base_uri": "https://localhost:8080/"
        },
        "id": "Zbck64QDYYEb",
        "outputId": "0ebe20d7-e784-4f74-cbf2-f5ed078cbb7e"
      },
      "outputs": [
        {
          "output_type": "stream",
          "name": "stdout",
          "text": [
            "<class 'str'>\n",
            "<class 'str'>\n",
            "<class 'str'>\n",
            "<class 'str'>\n"
          ]
        }
      ],
      "source": [
        "name = 'Python' # string assignment within single quotes\n",
        "name2 = \"Python\" # string assingment within double quotes\n",
        "name3 = '''This is a a very long string and supports \n",
        "            multiline statements as well''' # string assingment within 3 single quotes\n",
        "name4 = 'Hello! \\\"Rockstar Programmer\\\"' # string with escaped character sequence\n",
        "print(type(name)) # <class 'str'>\n",
        "print(type(name2)) # <class 'str'>\n",
        "print(type(name3)) # <class 'str'>\n",
        "print(type(name4)) # <class 'str'>"
      ]
    },
    {
      "cell_type": "code",
      "source": [
        "\n",
        "first_name = 'Mike'\n",
        "last_name = 'Tyson'\n",
        "print(first_name + ' ' + last_name) # Mike Tyson"
      ],
      "metadata": {
        "colab": {
          "base_uri": "https://localhost:8080/"
        },
        "id": "5ZtVgD48YzIq",
        "outputId": "fb68f0d0-e565-4fbe-9e0a-80920ad8dc12"
      },
      "execution_count": null,
      "outputs": [
        {
          "output_type": "stream",
          "name": "stdout",
          "text": [
            "Mike Tyson\n"
          ]
        }
      ]
    },
    {
      "cell_type": "code",
      "source": [
        "user_name = 'John'\n",
        "age = 40\n",
        "print(user_name, age) # TypeError: can only concatenate str (not \"int\") to str\n",
        "# This would work in Javscript where it would convert the result to string type"
      ],
      "metadata": {
        "colab": {
          "base_uri": "https://localhost:8080/"
        },
        "id": "ssfsdEHmY-Zu",
        "outputId": "eaefbdbb-5ebe-49df-8d9a-a88188ec0ead"
      },
      "execution_count": null,
      "outputs": [
        {
          "output_type": "stream",
          "name": "stdout",
          "text": [
            "John 40\n"
          ]
        }
      ]
    },
    {
      "cell_type": "code",
      "source": [
        "age=input('Please enter your age: ')\n",
        "if(int(age)>=18):\n",
        "  print('You are allowed to enter the club')\n",
        "else:\n",
        "  print('Sorry! You are not allowed!')"
      ],
      "metadata": {
        "id": "LsNtTOrpZQiv",
        "colab": {
          "base_uri": "https://localhost:8080/"
        },
        "outputId": "1812d634-d85c-4621-b4d0-b9184dab7fb2"
      },
      "execution_count": null,
      "outputs": [
        {
          "output_type": "stream",
          "name": "stdout",
          "text": [
            "Please enter your age: 80\n",
            "You are allowed to enter the club\n"
          ]
        }
      ]
    },
    {
      "cell_type": "code",
      "source": [
        "exam_score = input('Enter your exam score: ')\n",
        "if(int(exam_score) > 90):\n",
        "  print('You have got grade A+')\n",
        "elif(int(exam_score) > 80):\n",
        "  print('You have got grade A')\n",
        "else:\n",
        "  print('You have got grade B')"
      ],
      "metadata": {
        "colab": {
          "base_uri": "https://localhost:8080/"
        },
        "id": "st2-izBfMgJu",
        "outputId": "a2b2a349-ad20-4000-f9ac-600a9b08bf89"
      },
      "execution_count": null,
      "outputs": [
        {
          "output_type": "stream",
          "name": "stdout",
          "text": [
            "Enter your exam score: 80\n",
            "You have got grade B\n"
          ]
        }
      ]
    },
    {
      "cell_type": "code",
      "source": [
        "is_adult = True\n",
        "is_licensed = True\n",
        "\n",
        "if(is_adult and is_licensed): ## In JavaScript && is used instead of 'and'\n",
        "  print('You are allowed to drive')\n",
        "else:\n",
        "  print('You are not allowed to drive')"
      ],
      "metadata": {
        "colab": {
          "base_uri": "https://localhost:8080/"
        },
        "id": "mGxtI5HhNKa_",
        "outputId": "8b218a3f-6afd-4682-9858-8e69acbdd162"
      },
      "execution_count": null,
      "outputs": [
        {
          "output_type": "stream",
          "name": "stdout",
          "text": [
            "You are allowed to drive\n"
          ]
        }
      ]
    },
    {
      "cell_type": "code",
      "source": [
        "if(9 > 8):\n",
        "  print('Such a silly logic. I will get printed')\n",
        "else:\n",
        "  print('I will never get printed')\n",
        "  print('I am not get printed coz I am indented')\n",
        "\n",
        "# Now without indentation\n",
        "if(7 > 8):\n",
        "  print('Such a silly logic. I will get printed')\n",
        "else:\n",
        " print('I will never get printed')\n",
        "print('I will be printed anyways coz I am not indented')\n",
        "# The above line gets printed always as interpreter treats it as a new line"
      ],
      "metadata": {
        "colab": {
          "base_uri": "https://localhost:8080/"
        },
        "id": "5d5o-erwOqiY",
        "outputId": "fbaadcf2-087d-4ddb-c6b2-df06bcfb30fb"
      },
      "execution_count": null,
      "outputs": [
        {
          "output_type": "stream",
          "name": "stdout",
          "text": [
            "Such a silly logic. I will get printed\n",
            "I will never get printed\n",
            "I will be printed anyways coz I am not indented\n"
          ]
        }
      ]
    },
    {
      "cell_type": "code",
      "source": [
        "username = 'a' # bool('santa') => True\n",
        "password = 'a' # bool('superSecretPassword') => True\n",
        "if username and password:\n",
        "  print('Details found')\n",
        "else:\n",
        "  print('Not found')"
      ],
      "metadata": {
        "colab": {
          "base_uri": "https://localhost:8080/"
        },
        "id": "jUsG-KzRQ6J2",
        "outputId": "226f9c6a-048c-469d-e223-af6025e06a77"
      },
      "execution_count": null,
      "outputs": [
        {
          "output_type": "stream",
          "name": "stdout",
          "text": [
            "Details found\n"
          ]
        }
      ]
    },
    {
      "cell_type": "code",
      "source": [
        "is_single = False\n",
        "message = 'You can date' if is_single else 'you cannot date'\n",
        "# result = (value 1) if (condition is truthy) else (value 2)\n",
        "print(message) # You can date"
      ],
      "metadata": {
        "colab": {
          "base_uri": "https://localhost:8080/"
        },
        "id": "Cvx44ku4RT6J",
        "outputId": "ca3899c2-0449-48c9-953c-1606fa79d985"
      },
      "execution_count": null,
      "outputs": [
        {
          "output_type": "stream",
          "name": "stdout",
          "text": [
            "you cannot date\n"
          ]
        }
      ]
    },
    {
      "cell_type": "code",
      "source": [
        "knows_javascript = False\n",
        "knows_python = False\n",
        "\n",
        "if(knows_javascript or knows_python): # doesn't depend on value of knows_python\n",
        "  print('Javscript or python developer')\n",
        "else:\n",
        "  print('Some other developer')"
      ],
      "metadata": {
        "colab": {
          "base_uri": "https://localhost:8080/"
        },
        "id": "hXuwW1efR2p5",
        "outputId": "5ee4d654-5f8e-4401-9844-150b4d951a26"
      },
      "execution_count": null,
      "outputs": [
        {
          "output_type": "stream",
          "name": "stdout",
          "text": [
            "Some other developer\n"
          ]
        }
      ]
    },
    {
      "cell_type": "code",
      "source": [
        "knows_javascript = False\n",
        "knows_python = True\n",
        "\n",
        "if(knows_javascript and knows_python): # doesn't depend on value of knows_python\n",
        "  print('Javscript or python developer')\n",
        "else:\n",
        "  print('Some other developer')"
      ],
      "metadata": {
        "colab": {
          "base_uri": "https://localhost:8080/"
        },
        "id": "GcpaJsxgSsMl",
        "outputId": "ba0f940f-ddc1-442e-9a00-6e7def39d83e"
      },
      "execution_count": null,
      "outputs": [
        {
          "output_type": "stream",
          "name": "stdout",
          "text": [
            "Some other developer\n"
          ]
        }
      ]
    },
    {
      "cell_type": "code",
      "source": [
        "#logical operators\n",
        "print(10 > 100) # False\n",
        "print(10 < 100) # True\n",
        "print(10 == 10) # True\n",
        "print(10 != 50) # True\n",
        "print(2 > 1 and 2 > 0) # True\n",
        "print(not(True)) # False\n",
        "print(not False) # True"
      ],
      "metadata": {
        "colab": {
          "base_uri": "https://localhost:8080/"
        },
        "id": "NDdie7v_W3tI",
        "outputId": "c13cf938-c3ac-4e8c-ed14-15496bfabc41"
      },
      "execution_count": null,
      "outputs": [
        {
          "output_type": "stream",
          "name": "stdout",
          "text": [
            "False\n",
            "True\n",
            "True\n",
            "True\n",
            "True\n",
            "False\n",
            "True\n"
          ]
        }
      ]
    },
    {
      "cell_type": "code",
      "source": [
        "#some quirky operations\n",
        "print(True == True) #True\n",
        "print('' == 1) # False\n",
        "print([] == 1) # False\n",
        "print(10 == 10.0) # True\n",
        "print([] == []) # True"
      ],
      "metadata": {
        "colab": {
          "base_uri": "https://localhost:8080/"
        },
        "id": "-lVvz-lNXP54",
        "outputId": "1161fbc8-301e-4042-dabf-c3c325d6834f"
      },
      "execution_count": null,
      "outputs": [
        {
          "output_type": "stream",
          "name": "stdout",
          "text": [
            "True\n",
            "False\n",
            "False\n",
            "True\n",
            "True\n"
          ]
        }
      ]
    },
    {
      "cell_type": "code",
      "source": [
        "print(True is True) # True\n",
        "print('' is 1) # False\n",
        "print([] is 1) # False\n",
        "print(10 is 10.0) # False\n",
        "print([] is []) # False"
      ],
      "metadata": {
        "colab": {
          "base_uri": "https://localhost:8080/"
        },
        "id": "Av3ywyI9Xr8k",
        "outputId": "3940743e-921a-43ce-d1e7-9906a7d74672"
      },
      "execution_count": null,
      "outputs": [
        {
          "output_type": "stream",
          "name": "stdout",
          "text": [
            "True\n",
            "False\n",
            "False\n",
            "False\n",
            "False\n"
          ]
        }
      ]
    },
    {
      "cell_type": "code",
      "source": [
        "for item in 'Python': # String is iterable\n",
        "  print(item) # prints all characters of the string"
      ],
      "metadata": {
        "colab": {
          "base_uri": "https://localhost:8080/"
        },
        "id": "GTrsQkNHYFz5",
        "outputId": "dca01d09-9f34-4850-a621-4451e68d3e94"
      },
      "execution_count": null,
      "outputs": [
        {
          "output_type": "stream",
          "name": "stdout",
          "text": [
            "P\n",
            "y\n",
            "t\n",
            "h\n",
            "o\n",
            "n\n"
          ]
        }
      ]
    },
    {
      "cell_type": "code",
      "source": [
        "for item in [1,2,3,4,5]: # List is iterable\n",
        "    print(item) # prints all numbers one at a time\n",
        "    "
      ],
      "metadata": {
        "colab": {
          "base_uri": "https://localhost:8080/"
        },
        "id": "s4zZqKe8YKjg",
        "outputId": "79f02525-8ee3-4037-8e9d-855f5da1e065"
      },
      "execution_count": null,
      "outputs": [
        {
          "output_type": "stream",
          "name": "stdout",
          "text": [
            "1\n",
            "2\n",
            "3\n",
            "4\n",
            "5\n"
          ]
        }
      ]
    },
    {
      "cell_type": "code",
      "source": [
        "for item in {1,2,3,4,5}: # Set is iterable\n",
        "    print(item)"
      ],
      "metadata": {
        "colab": {
          "base_uri": "https://localhost:8080/"
        },
        "id": "d9wWb0OSYg-c",
        "outputId": "3c34c4ab-117f-4082-fd67-acd6515d4ebc"
      },
      "execution_count": null,
      "outputs": [
        {
          "output_type": "stream",
          "name": "stdout",
          "text": [
            "1\n",
            "2\n",
            "3\n",
            "4\n",
            "5\n"
          ]
        }
      ]
    },
    {
      "cell_type": "code",
      "source": [
        "for item in (1,2,3,4,5): # Tuple is iterable\n",
        "    print(item)"
      ],
      "metadata": {
        "colab": {
          "base_uri": "https://localhost:8080/"
        },
        "id": "HTUOodbfYjq6",
        "outputId": "416dd898-8531-453a-91de-70e3386e4b53"
      },
      "execution_count": null,
      "outputs": [
        {
          "output_type": "stream",
          "name": "stdout",
          "text": [
            "1\n",
            "2\n",
            "3\n",
            "4\n",
            "5\n"
          ]
        }
      ]
    },
    {
      "cell_type": "code",
      "source": [
        "#Iterable\n",
        "player = {\n",
        "  'firstname': 'Virat',\n",
        "  'lastname': 'Kohli',\n",
        "  'role': 'captain'\n",
        "}\n",
        "\n",
        "for item in player: # iterates over the keys of player\n",
        "  print(item) # prints all keys"
      ],
      "metadata": {
        "colab": {
          "base_uri": "https://localhost:8080/"
        },
        "id": "B3kKaWNKZE_Y",
        "outputId": "9e5de8bc-8769-404f-ff78-cc13ec28d86e"
      },
      "execution_count": null,
      "outputs": [
        {
          "output_type": "stream",
          "name": "stdout",
          "text": [
            "firstname\n",
            "lastname\n",
            "role\n"
          ]
        }
      ]
    },
    {
      "cell_type": "code",
      "source": [
        ""
      ],
      "metadata": {
        "id": "vIYpKYqshCB_"
      },
      "execution_count": null,
      "outputs": []
    },
    {
      "cell_type": "code",
      "source": [
        "player = {\n",
        "  'firstname': 'Virat',\n",
        "  'lastname': 'Kohli',\n",
        "  'role': 'captain'\n",
        "}\n",
        "for item in player.keys(): \n",
        "  print(item) # prints all keys"
      ],
      "metadata": {
        "colab": {
          "base_uri": "https://localhost:8080/"
        },
        "id": "VMAClrpIZL8x",
        "outputId": "c9e0b327-0abf-4fdf-a511-61fec922b778"
      },
      "execution_count": null,
      "outputs": [
        {
          "output_type": "stream",
          "name": "stdout",
          "text": [
            "firstname\n",
            "lastname\n",
            "role\n"
          ]
        }
      ]
    },
    {
      "cell_type": "code",
      "source": [
        "player = {\n",
        "  'firstname': 'Virat',\n",
        "  'lastname': 'Kohli',\n",
        "  'role': 'captain'\n",
        "}\n",
        "for item in player.values():\n",
        "  print(item) # prints all values"
      ],
      "metadata": {
        "colab": {
          "base_uri": "https://localhost:8080/"
        },
        "id": "OAk89Z5tZSzc",
        "outputId": "38c5f5c4-a73a-4b90-ff89-ae2155a56230"
      },
      "execution_count": null,
      "outputs": [
        {
          "output_type": "stream",
          "name": "stdout",
          "text": [
            "Virat\n",
            "Kohli\n",
            "captain\n"
          ]
        }
      ]
    },
    {
      "cell_type": "code",
      "source": [
        "player = {\n",
        "  'firstname': 'Virat',\n",
        "  'lastname': 'Kohli',\n",
        "  'role': 'captain'\n",
        "}\n",
        "for item in player.items():\n",
        "  print(item) # prints key and value as tuple"
      ],
      "metadata": {
        "colab": {
          "base_uri": "https://localhost:8080/"
        },
        "id": "QQvhE8rpZU3P",
        "outputId": "8e81625b-2891-4b66-fcca-96e1aff48f08"
      },
      "execution_count": null,
      "outputs": [
        {
          "output_type": "stream",
          "name": "stdout",
          "text": [
            "('firstname', 'Virat')\n",
            "('lastname', 'Kohli')\n",
            "('role', 'captain')\n"
          ]
        }
      ]
    },
    {
      "cell_type": "code",
      "source": [
        "player = {\n",
        "  'firstname': 'Virat',\n",
        "  'lastname': 'Kohli',\n",
        "  'role': 'captain'\n",
        "}\n",
        "for key, value in player.items():\n",
        "  print(key, value) # prints key and value using unpacking"
      ],
      "metadata": {
        "colab": {
          "base_uri": "https://localhost:8080/"
        },
        "id": "YE0CE0AcZWFV",
        "outputId": "10b2508e-c1ca-43dd-9484-c8d72bfa9ea7"
      },
      "execution_count": null,
      "outputs": [
        {
          "output_type": "stream",
          "name": "stdout",
          "text": [
            "firstname Virat\n",
            "lastname Kohli\n",
            "role captain\n"
          ]
        }
      ]
    },
    {
      "cell_type": "markdown",
      "source": [
        ""
      ],
      "metadata": {
        "id": "bP9zJ1nFNC-x"
      }
    },
    {
      "cell_type": "code",
      "source": [
        "#range\n",
        "for item in range(10):\n",
        "  print('python', item) # prints python 10 times"
      ],
      "metadata": {
        "colab": {
          "base_uri": "https://localhost:8080/"
        },
        "id": "ZrXOnKq2hE1o",
        "outputId": "4226acd6-7c22-4ed4-daeb-ff9e0116aa45"
      },
      "execution_count": null,
      "outputs": [
        {
          "output_type": "stream",
          "name": "stdout",
          "text": [
            "python 0\n",
            "python 1\n",
            "python 2\n",
            "python 3\n",
            "python 4\n",
            "python 5\n",
            "python 6\n",
            "python 7\n",
            "python 8\n",
            "python 9\n"
          ]
        }
      ]
    },
    {
      "cell_type": "code",
      "source": [
        "for item in range(0,10,1):\n",
        "    print('hello',item) # prints hello 10 times\n"
      ],
      "metadata": {
        "colab": {
          "base_uri": "https://localhost:8080/"
        },
        "id": "VYauAya8hJR7",
        "outputId": "cf87f4dd-b11b-457d-b4fe-1df3f8b8761c"
      },
      "execution_count": null,
      "outputs": [
        {
          "output_type": "stream",
          "name": "stdout",
          "text": [
            "hello 0\n",
            "hello 1\n",
            "hello 2\n",
            "hello 3\n",
            "hello 4\n",
            "hello 5\n",
            "hello 6\n",
            "hello 7\n",
            "hello 8\n",
            "hello 9\n"
          ]
        }
      ]
    },
    {
      "cell_type": "code",
      "source": [
        "for item in range(0, 10, 2):\n",
        "    print('hii', item) # prints hii 5 times "
      ],
      "metadata": {
        "colab": {
          "base_uri": "https://localhost:8080/"
        },
        "id": "GO64FgO7hgI9",
        "outputId": "4c0d5e72-a5a8-4181-9cd2-2a6c4961e96f"
      },
      "execution_count": null,
      "outputs": [
        {
          "output_type": "stream",
          "name": "stdout",
          "text": [
            "hii 0\n",
            "hii 2\n",
            "hii 4\n",
            "hii 6\n",
            "hii 8\n"
          ]
        }
      ]
    },
    {
      "cell_type": "code",
      "source": [
        "for item in range(10, 0, -1):\n",
        "    print(item) # prints in reverse order"
      ],
      "metadata": {
        "colab": {
          "base_uri": "https://localhost:8080/"
        },
        "id": "XzzBCYH_hqHC",
        "outputId": "9c6ef070-32be-4605-fe5e-0d5ddc02c9f2"
      },
      "execution_count": null,
      "outputs": [
        {
          "output_type": "stream",
          "name": "stdout",
          "text": [
            "10\n",
            "9\n",
            "8\n",
            "7\n",
            "6\n",
            "5\n",
            "4\n",
            "3\n",
            "2\n",
            "1\n"
          ]
        }
      ]
    },
    {
      "cell_type": "code",
      "source": [
        "print(list(range(10))) # generates a list of 10 items"
      ],
      "metadata": {
        "colab": {
          "base_uri": "https://localhost:8080/"
        },
        "id": "CR9zBYybhyuc",
        "outputId": "21e60b96-2bcc-4e9d-a3b2-4ca785e07256"
      },
      "execution_count": null,
      "outputs": [
        {
          "output_type": "stream",
          "name": "stdout",
          "text": [
            "[0, 1, 2, 3, 4, 5, 6, 7, 8, 9]\n"
          ]
        }
      ]
    },
    {
      "cell_type": "code",
      "source": [
        "#enumerate(numaralandırmak)\n",
        "for key, value in enumerate(range(10)): # using unpacking techique \n",
        "  print(f'key is {key} and value is {value}') # prints key and value at the same time\n"
      ],
      "metadata": {
        "colab": {
          "base_uri": "https://localhost:8080/"
        },
        "id": "bnWPGwgXiLeh",
        "outputId": "3a7b4ec2-4ebd-4b83-b84c-cf9b84a7b92a"
      },
      "execution_count": null,
      "outputs": [
        {
          "output_type": "stream",
          "name": "stdout",
          "text": [
            "key is 0 and value is 0\n",
            "key is 1 and value is 1\n",
            "key is 2 and value is 2\n",
            "key is 3 and value is 3\n",
            "key is 4 and value is 4\n",
            "key is 5 and value is 5\n",
            "key is 6 and value is 6\n",
            "key is 7 and value is 7\n",
            "key is 8 and value is 8\n",
            "key is 9 and value is 9\n"
          ]
        }
      ]
    },
    {
      "cell_type": "code",
      "source": [
        ""
      ],
      "metadata": {
        "id": "MUf_GcGAipEh"
      },
      "execution_count": null,
      "outputs": []
    }
  ]
}