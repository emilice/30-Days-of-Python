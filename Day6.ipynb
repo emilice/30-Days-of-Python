{
  "nbformat": 4,
  "nbformat_minor": 0,
  "metadata": {
    "colab": {
      "name": "Day6.ipynb",
      "provenance": [],
      "collapsed_sections": [],
      "toc_visible": true,
      "authorship_tag": "ABX9TyP4oqOFlbLuJ73e2JbC3Bvn",
      "include_colab_link": true
    },
    "kernelspec": {
      "name": "python3",
      "display_name": "Python 3"
    },
    "language_info": {
      "name": "python"
    }
  },
  "cells": [
    {
      "cell_type": "markdown",
      "metadata": {
        "id": "view-in-github",
        "colab_type": "text"
      },
      "source": [
        "<a href=\"https://colab.research.google.com/github/emilice/30-Days-of-Python/blob/main/Day6.ipynb\" target=\"_parent\"><img src=\"https://colab.research.google.com/assets/colab-badge.svg\" alt=\"Open In Colab\"/></a>"
      ]
    },
    {
      "cell_type": "code",
      "source": [
        "hungry = True\n",
        "while(hungry): # This is always true so it keeps printing until system crashes!\n",
        "  print('Give me something to eat!!')\n",
        "  break # prints only once and stops the loop execution"
      ],
      "metadata": {
        "colab": {
          "base_uri": "https://localhost:8080/"
        },
        "id": "tm__Gj3Oq-zY",
        "outputId": "a8a4c9f3-e55f-4994-d7c1-cfa8aa48a2a8"
      },
      "execution_count": null,
      "outputs": [
        {
          "output_type": "stream",
          "name": "stdout",
          "text": [
            "Give me something to eat!!\n"
          ]
        }
      ]
    },
    {
      "cell_type": "code",
      "source": [
        "hungry = True\n",
        "satisfaction = 0\n",
        "while(satisfaction < 10):\n",
        "  satisfaction += 1\n",
        "  print('Give me something to eat!!',satisfaction ) # prints 10 times"
      ],
      "metadata": {
        "colab": {
          "base_uri": "https://localhost:8080/"
        },
        "id": "lSeDnPxVq_hl",
        "outputId": "373f21d6-2685-4886-c3c4-1887841d0244"
      },
      "execution_count": null,
      "outputs": [
        {
          "output_type": "stream",
          "name": "stdout",
          "text": [
            "Give me something to eat!! 1\n",
            "Give me something to eat!! 2\n",
            "Give me something to eat!! 3\n",
            "Give me something to eat!! 4\n",
            "Give me something to eat!! 5\n",
            "Give me something to eat!! 6\n",
            "Give me something to eat!! 7\n",
            "Give me something to eat!! 8\n",
            "Give me something to eat!! 9\n",
            "Give me something to eat!! 10\n"
          ]
        }
      ]
    },
    {
      "cell_type": "code",
      "source": [
        "hungry = True\n",
        "satisfaction = 0\n",
        "while satisfaction < 10:\n",
        "  satisfaction += 1\n",
        "  print('Give me something to eat!!', satisfaction)\n",
        "else:\n",
        "    print('I am super satisfied now') # gets printed once condition is falsy"
      ],
      "metadata": {
        "colab": {
          "base_uri": "https://localhost:8080/"
        },
        "id": "8Xe_pIs3rTQZ",
        "outputId": "4f5a85d8-b3e0-465e-9714-6a71e02a0507"
      },
      "execution_count": null,
      "outputs": [
        {
          "output_type": "stream",
          "name": "stdout",
          "text": [
            "Give me something to eat!! 1\n",
            "Give me something to eat!! 2\n",
            "Give me something to eat!! 3\n",
            "Give me something to eat!! 4\n",
            "Give me something to eat!! 5\n",
            "Give me something to eat!! 6\n",
            "Give me something to eat!! 7\n",
            "Give me something to eat!! 8\n",
            "Give me something to eat!! 9\n",
            "Give me something to eat!! 10\n",
            "I am super satisfied now\n"
          ]
        }
      ]
    },
    {
      "cell_type": "code",
      "source": [
        "while True:\n",
        "  response_from_user = input('Enter some message. Enter bye to exit: ')\n",
        "  if(response_from_user == 'bye'):\n",
        "    break"
      ],
      "metadata": {
        "colab": {
          "base_uri": "https://localhost:8080/"
        },
        "id": "xc7ymrNyrsA2",
        "outputId": "3607d0df-6d56-48f2-de58-58cec2d9e791"
      },
      "execution_count": null,
      "outputs": [
        {
          "name": "stdout",
          "output_type": "stream",
          "text": [
            "Enter some message. Enter bye to exit: bh\n",
            "Enter some message. Enter bye to exit: bye\n"
          ]
        }
      ]
    },
    {
      "cell_type": "code",
      "source": [
        "email_list = ['roger@hey.com','michael@hey.com','roger@hey.com','emili@gmail.com']\n",
        "duplicate_emails = []\n",
        "for email in email_list:\n",
        "  if email_list.count(email) > 1 and email not in duplicate_emails:\n",
        "    duplicate_emails.append(email)\n",
        "print(duplicate_emails)"
      ],
      "metadata": {
        "colab": {
          "base_uri": "https://localhost:8080/"
        },
        "id": "gbRyPe67AQjd",
        "outputId": "d2263e54-ccaf-4ab1-f0f5-f7f0da19aa6a"
      },
      "execution_count": null,
      "outputs": [
        {
          "output_type": "stream",
          "name": "stdout",
          "text": [
            "['roger@hey.com']\n"
          ]
        }
      ]
    },
    {
      "cell_type": "markdown",
      "source": [
        "# Yeni Bölüm"
      ],
      "metadata": {
        "id": "XjcgZOoRrQpg"
      }
    },
    {
      "cell_type": "code",
      "source": [
        "def blow_fire(): # This part is called function definition\n",
        "  print('fire 🔥 🔥 🔥')\n",
        "\n",
        "blow_fire() # This part is called function invocation\n",
        "blow_fire() # It can be called any number to times to perform some action"
      ],
      "metadata": {
        "colab": {
          "base_uri": "https://localhost:8080/"
        },
        "id": "SI3qJkv2FiWQ",
        "outputId": "4f96ba01-73a2-4ea8-96b0-9d709c9eadb1"
      },
      "execution_count": null,
      "outputs": [
        {
          "output_type": "stream",
          "name": "stdout",
          "text": [
            "fire 🔥 🔥 🔥\n",
            "fire 🔥 🔥 🔥\n"
          ]
        }
      ]
    },
    {
      "cell_type": "code",
      "source": [
        "def blower(name, emoji): # parameters\n",
        "  print(f'{name} {emoji} {emoji} ')\n",
        "\n",
        "blower('fire', '🔥') # arguments\n",
        "blower('water', '🌊')"
      ],
      "metadata": {
        "colab": {
          "base_uri": "https://localhost:8080/"
        },
        "id": "TOaHUqoKF47a",
        "outputId": "792cb64b-78d6-44de-fb1e-52a3a9117799"
      },
      "execution_count": null,
      "outputs": [
        {
          "output_type": "stream",
          "name": "stdout",
          "text": [
            "fire 🔥 🔥 \n",
            "water 🌊 🌊 \n"
          ]
        }
      ]
    },
    {
      "cell_type": "code",
      "source": [
        "def blower(name = 'fire', emoji = '🔥'): # default parameters\n",
        "  print(f'{name} {emoji} {emoji} {emoji}')\n",
        "\n",
        "blower('fire', '🔥') # arguments\n",
        "blower('water', '🌊')\n",
        "blower() # fire 🔥 # this works as the function has default parameters defined"
      ],
      "metadata": {
        "colab": {
          "base_uri": "https://localhost:8080/"
        },
        "id": "s3fgflAUG1Sd",
        "outputId": "5fc07408-465e-4d7e-8cd1-4fb510cedc27"
      },
      "execution_count": null,
      "outputs": [
        {
          "output_type": "stream",
          "name": "stdout",
          "text": [
            "fire 🔥 🔥 🔥\n",
            "water 🌊 🌊 🌊\n",
            "fire 🔥 🔥 🔥\n"
          ]
        }
      ]
    },
    {
      "cell_type": "code",
      "source": [
        "def multiplier(num1, num2):\n",
        "  return num1 * num2\n",
        "\n",
        "result = multiplier(2,3)\n",
        "print(result) # 6\n",
        "multiplier(2,3)"
      ],
      "metadata": {
        "colab": {
          "base_uri": "https://localhost:8080/"
        },
        "id": "gYT3p_WRJ0tK",
        "outputId": "220e7390-0e74-4fe4-8c23-c5df39e5cebb"
      },
      "execution_count": null,
      "outputs": [
        {
          "output_type": "stream",
          "name": "stdout",
          "text": [
            "6\n"
          ]
        },
        {
          "output_type": "execute_result",
          "data": {
            "text/plain": [
              "6"
            ]
          },
          "metadata": {},
          "execution_count": 6
        }
      ]
    },
    {
      "cell_type": "code",
      "source": [
        "def sum(num1):\n",
        "  def child(num2):\n",
        "    return num1 + num2\n",
        "  return child\n",
        "\n",
        "add_10 = sum(10)\n",
        "print(add_10(20)) # 30  (Closure!!!)\n",
        "print(add_10(50)) # 60\n",
        "print(add_10(100)) # 110"
      ],
      "metadata": {
        "id": "_xj2tOdoHjmk",
        "colab": {
          "base_uri": "https://localhost:8080/"
        },
        "outputId": "d2660e93-6345-49d6-cc9b-a71a8254ad22"
      },
      "execution_count": null,
      "outputs": [
        {
          "output_type": "stream",
          "name": "stdout",
          "text": [
            "30\n",
            "60\n",
            "110\n"
          ]
        }
      ]
    },
    {
      "cell_type": "code",
      "source": [
        "def powerful_function(*args):\n",
        "  print(args)\n",
        "\n",
        "powerful_function(1,3,2) # (1, 3, 2) --> Returns a tuple\n",
        "\n",
        "def super_function(**kwargs):\n",
        "  print(kwargs)\n",
        "\n",
        "super_function(name='John', age='45') # {'name': 'John', 'age': '45'} --> Returns a dict"
      ],
      "metadata": {
        "id": "bhHinw6sNmSQ",
        "colab": {
          "base_uri": "https://localhost:8080/"
        },
        "outputId": "20432247-714d-4805-83d2-f09b4ae1067f"
      },
      "execution_count": null,
      "outputs": [
        {
          "output_type": "stream",
          "name": "stdout",
          "text": [
            "(1, 3, 2)\n",
            "{'name': 'John', 'age': '45'}\n"
          ]
        }
      ]
    },
    {
      "cell_type": "code",
      "source": [
        "#scope(kapsam) : hangi değişkenlere erişim sağlanır\n",
        "num = 1\n",
        "def confusing_function():\n",
        "    num = 10\n",
        "    return num\n",
        "\n",
        "print(num) # 1 => Global Scope\n",
        "print(confusing_function()) # 10 => Local Scope"
      ],
      "metadata": {
        "colab": {
          "base_uri": "https://localhost:8080/"
        },
        "id": "l8Kc71dGVnjV",
        "outputId": "403e09b1-55c9-4b36-9c1e-1acd9ccab3e0"
      },
      "execution_count": null,
      "outputs": [
        {
          "output_type": "stream",
          "name": "stdout",
          "text": [
            "1\n",
            "10\n"
          ]
        }
      ]
    }
  ]
}